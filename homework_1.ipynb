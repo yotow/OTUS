{
 "cells": [
  {
   "cell_type": "markdown",
   "metadata": {},
   "source": [
    "# <center> Homework 1 </center>"
   ]
  },
  {
   "cell_type": "markdown",
   "metadata": {},
   "source": [
    "# 0. Где мы сейчас?\n",
    "<img src=\"https://upload.wikimedia.org/wikipedia/commons/thumb/3/38/Jupyter_logo.svg/1200px-Jupyter_logo.svg.png\" width=\"150\">\n",
    "\n",
    "[Jupyter Notebook](https://jupyter.org/) - интерактивная среда для запуска программного кода в браузере. Удобный инструмент для анализа данных, который используется многими специалистами по data science. Позволяет выполнять отдельные ячейки с кодом, а не всю программу сразу, что очень удобно при знакомстве с данными."
   ]
  },
  {
   "cell_type": "markdown",
   "metadata": {},
   "source": [
    "# 1. Python\n",
    "> Python - это свободный интерпретируемый объектно-ориентированный расширяемый встраиваемый язык программирования очень высокого уровня \n",
    "\n",
    ">*(Г.Россум, Ф.Л.Дж.Дрейк, Д.С.Откидач \"Язык программирования Python\").*\n",
    "\n",
    "А если без цитат, то питон - это просто очень крутой язык, созданный в 1991 году [Великодушным пожизненным диктатором](https://ru.wikipedia.org/wiki/%D0%92%D0%B5%D0%BB%D0%B8%D0%BA%D0%BE%D0%B4%D1%83%D1%88%D0%BD%D1%8B%D0%B9_%D0%BF%D0%BE%D0%B6%D0%B8%D0%B7%D0%BD%D0%B5%D0%BD%D0%BD%D1%8B%D0%B9_%D0%B4%D0%B8%D0%BA%D1%82%D0%B0%D1%82%D0%BE%D1%80) Гвидо ван Россумом и названный в честь любимого им шоу [Monty Python's Flying Circus](https://en.wikipedia.org/wiki/Monty_Python%27s_Flying_Circus)\n",
    "\n",
    "<img src=\"https://advancelocal-adapter-image-uploads.s3.amazonaws.com/image.oregonlive.com/home/olive-media/width2048/img/tv/photo/2018/10/10/montycastjpg-7ef393e2355a42aa.jpg\" width=\"300\">"
   ]
  },
  {
   "cell_type": "markdown",
   "metadata": {},
   "source": [
    "# 2. Anaconda\n",
    "\n",
    "<img src=\"https://cdn-images-1.medium.com/max/1600/0*MVkCW8_Bmj-nuAnI.png\" width=\"300\">\n",
    "\n",
    "[Сборка Anaconda](https://www.anaconda.com/products/individual) включает очень много полезных библиотек для анализа данных. \n",
    "\n",
    "Среди наиболее популярных библиотек:\n",
    " - <a href=\"http://numpy.org\">Numpy</a> - это один из основных пакетов для математических вычислений. Он содержит средства для работы с многомерными массивами и высокоуровневыми математическими функциями\n",
    " - <a href=\"https://www.scipy.org/\">SciPy</a> - научные вычисления. Методы оптимизации, интегрирования, модули обработки сигналов и изображений, статистика, линейная алгебра, сплайны, кластеризация и многое другое\n",
    " -  <a href=\"http://pandas.pydata.org/\">Pandas</a> - основная библиотека для обработки и анализа данных. Предназначена для данных разной природы - матричных, панельных данных, временных рядов. Претендует на звание самого мощного и гибкого средства для анализа данных с открытым исходным кодом\n",
    " - <a href=\"http://scikit-learn.org/stable/\">Scikit-learn</a> - реализация очень многих методов машинного обучения с отличной документацией. \n",
    " - <a href=\"http://http://matplotlib.org/\">matplotlib</a> - хорошая библиотека для визуализации данных"
   ]
  },
  {
   "cell_type": "markdown",
   "metadata": {},
   "source": [
    "# 3. Задачки"
   ]
  },
  {
   "cell_type": "markdown",
   "metadata": {},
   "source": [
    "## Задача 1\n",
    "$N$ хоббитов делят $K$ кусков эльфийского хлеба поровну, не делящийся нацело остаток остается в корзинке у Сэма. Напишите функцию, которая принимает на вход параметры $N$ и $K$ и возвращает два числа: $x$ - cколько кусков эльфиского хлеба достанется каждому хоббиту, и $y$ - сколько кусков остаётся в корзинке."
   ]
  },
  {
   "cell_type": "code",
   "metadata": {
    "ExecuteTime": {
     "end_time": "2024-09-29T23:02:53.086758Z",
     "start_time": "2024-09-29T23:02:52.316395Z"
    }
   },
   "source": [
    "import math\n",
    "import numpy as np\n",
    "from scipy.spatial.distance import cosine\n",
    "import matplotlib.pyplot as plt\n",
    "\n",
    "\n",
    "def share_bread(N, K):\n",
    "    # your code here\n",
    "    x, y = K // N, K % N\n",
    "\n",
    "    return x, y\n",
    "\n",
    "\n",
    "# если в функции всё верно, то после выполнения этой строчки, не должно выскакивать ошибок\n",
    "assert share_bread(N=3, K=14) == (4, 2)"
   ],
   "outputs": [],
   "execution_count": 83
  },
  {
   "cell_type": "markdown",
   "metadata": {},
   "source": [
    "## Задача 2\n",
    "\n",
    "В копях Мории хоббиты нашли стену, на которой высечены разные натуральные числа. Согласно древним сказаниям, это даты сражений. Хоббиты знают, что сражения происходили только по високосным годам. Помогите хоббитам определить, является ли год с данным числом датой великого сражения. Если это так, то верните строку \"YOU SHALL PASS\", иначе верните \"YOU SHALL NOT PASS\". Напомним, что в соответствии с хоббитским календарем, год является високосным, если его номер кратен 4, но не кратен 100, а также если он кратен 400."
   ]
  },
  {
   "cell_type": "code",
   "metadata": {
    "ExecuteTime": {
     "end_time": "2024-09-29T22:09:08.213890Z",
     "start_time": "2024-09-29T22:09:08.210694Z"
    }
   },
   "source": [
    "def leap_year(year):\n",
    "    # your code here\n",
    "    text_result = \"YOU SHALL NOT PASS\"\n",
    "    if year % 4 == 0 and (year % 100 != 0 or year % 400 == 0):\n",
    "        text_result = 'YOU SHALL PASS'\n",
    "    return text_result\n",
    "\n",
    "\n",
    "assert leap_year(5) == 'YOU SHALL NOT PASS'"
   ],
   "outputs": [],
   "execution_count": 6
  },
  {
   "cell_type": "markdown",
   "metadata": {},
   "source": [
    "## Задача 3\n",
    "<img src=\"http://i0.kym-cdn.com/photos/images/original/001/187/255/5e9.gif\" width=300>\n",
    "Для могущественного магического ритуала Гендальфу необходимо быстро подсчитывать площадь своего амулета, который умеет менять размеры. Известно, что амулет имеет форму треугольника и Гендальф знает длину каждой из сторон. Напишите функцию, которая считает площадь амулета по трем сторонам.  \n",
    "\n",
    "Подсказка: используйте формулу Герона\n",
    "$$ S = \\sqrt{p(p-a)(p-b)(p-c)} $$\n",
    "$$ p = \\frac{a + b + c}{2}$$\n"
   ]
  },
  {
   "cell_type": "code",
   "metadata": {
    "ExecuteTime": {
     "end_time": "2024-09-29T22:15:12.070490Z",
     "start_time": "2024-09-29T22:15:12.067391Z"
    }
   },
   "source": [
    "def amulet_area(a, b, c):\n",
    "    # your code here\n",
    "    p = (a + b + c) / 2\n",
    "    s = math.sqrt(p * (p - a) * (p - b) * (p - c))\n",
    "    return s\n",
    "\n",
    "\n",
    "assert amulet_area(3, 4, 5) == 6"
   ],
   "outputs": [],
   "execution_count": 10
  },
  {
   "cell_type": "markdown",
   "metadata": {},
   "source": [
    "## Задача 4\n",
    "\n",
    "Хоббиты собираются пешком идти до Мордора и им нужно подсчитать расстояние, которое им предстоит пройти. Хоббиты смогли вспомнить сразу несколько метрик расстояния: евклидово, манхэттена и косинусное, так что ваша задача - напистаь функцию под каждую из них. Важное условие - используйте только базовые функции numpy для решения.\n",
    "\n",
    "\n",
    "* Евклидово расстояние\n",
    "$$ d(a, b) = \\sqrt{\\sum_i (a_i - b_i)^2} $$\n",
    "* Расстояние Манхэттена\n",
    "$$ d(a, b) = \\sum_i |a_i - b_i| $$\n",
    "* Косинусное расстояние\n",
    "$$ d(a, b) = 1 - \\frac{a^\\top b}{||a||_2\\cdot||b||_2}$$"
   ]
  },
  {
   "cell_type": "code",
   "metadata": {
    "ExecuteTime": {
     "end_time": "2024-09-29T23:01:40.423047Z",
     "start_time": "2024-09-29T23:01:40.419649Z"
    }
   },
   "source": [
    "def cal_euclidean(a, b):\n",
    "    ## Your code here\n",
    "    distance = np.sqrt(np.sum(np.square(np.subtract(a, b))))\n",
    "    return distance\n",
    "\n",
    "\n",
    "def cal_manhattan(a, b):\n",
    "    ## Your code here\n",
    "    distance = np.sum(np.abs(np.subtract(a, b)))\n",
    "    return distance\n",
    "\n",
    "\n",
    "def cal_cosine(a, b):\n",
    "    ## Your code here\n",
    "    distance = np.dot(a, b) / (np.linalg.norm(a) * np.linalg.norm(b))\n",
    "    return distance"
   ],
   "outputs": [],
   "execution_count": 81
  },
  {
   "metadata": {
    "ExecuteTime": {
     "end_time": "2024-09-29T23:25:02.878991Z",
     "start_time": "2024-09-29T23:25:02.875210Z"
    }
   },
   "cell_type": "code",
   "source": [
    "a = np.random.randint(-10, 10, size=10)\n",
    "b = np.random.randint(-10, 10, size=10)\n",
    "print(cal_euclidean(a, b))\n",
    "print(cal_manhattan(a, b))\n",
    "print(cal_cosine(a, b))"
   ],
   "outputs": [
    {
     "name": "stdout",
     "output_type": "stream",
     "text": [
      "23.2163735324878\n",
      "67\n",
      "0.15530142755397117\n"
     ]
    }
   ],
   "execution_count": 142
  },
  {
   "metadata": {
    "ExecuteTime": {
     "end_time": "2024-09-29T23:33:47.080867Z",
     "start_time": "2024-09-29T23:33:06.148417Z"
    }
   },
   "cell_type": "code",
   "source": [
    "while True:\n",
    "    if cal_cosine(a, b) > - 0.97:\n",
    "        a = np.random.randint(-10, 10, size=10)\n",
    "        b = np.random.randint(-10, 10, size=10)\n",
    "    else:\n",
    "        print(cal_cosine(a, b))\n",
    "        assert round(cal_cosine(a, b), 15) == round(1 - cosine(a, b), 15)\n",
    "        x = np.array(range(10))\n",
    "        plt.plot(x, a, label='A', color='r', marker='o')  # Первый массив (красный с маркерами)\n",
    "        plt.plot(x, b, label='B', color='b', marker='x')  # Второй массив (синий с крестиками)\n",
    "        plt.title('Plot of Two 1D Arrays')\n",
    "        plt.xlabel('X-axis')\n",
    "        plt.ylabel('Y-axis')\n",
    "        plt.legend()\n",
    "        plt.grid(True)\n",
    "        plt.show()\n",
    "        break"
   ],
   "outputs": [
    {
     "name": "stdout",
     "output_type": "stream",
     "text": [
      "-0.9809216625088469\n"
     ]
    },
    {
     "data": {
      "text/plain": [
       "<Figure size 640x480 with 1 Axes>"
      ],
      "image/png": "[encoded data removed]"
     },
     "metadata": {},
     "output_type": "display_data"
    }
   ],
   "execution_count": 168
  },
  {
   "cell_type": "markdown",
   "metadata": {},
   "source": [
    "## Задача 5\n",
    "\n",
    "Ну и напоследок, еще немного практики numpy, без которой не обходится ни один хоббит.\n"
   ]
  },
  {
   "cell_type": "markdown",
   "metadata": {},
   "source": [
    "Создайте случайный array (`np.random.rand()`) длинной 100. Преобразуйте его так, чтобы\n",
    "* Максимальный элемент(ы) был равен 1\n",
    "* Минимальный элемент(ы) был равен 0\n",
    "* Остальные элементы в итнтервале от 0 до 1 остаются прежними"
   ]
  },
  {
   "cell_type": "code",
   "metadata": {
    "ExecuteTime": {
     "end_time": "2024-09-30T00:06:05.030200Z",
     "start_time": "2024-09-30T00:06:05.026048Z"
    }
   },
   "source": [
    "# Генерация случайного массива длиной 100\n",
    "my_array = np.random.rand(100)\n",
    "\n",
    "# Преобразование: минимальный элемент = 0, максимальный элемент = 1\n",
    "my_array = np.where(my_array == my_array.max(), 1, np.where(my_array == my_array.min(), 0, my_array))\n",
    "\n",
    "# Вывод максимального и минимального значений, а также самого массива\n",
    "print(np.max(my_array), np.min(my_array))\n",
    "print(my_array)"
   ],
   "outputs": [
    {
     "name": "stdout",
     "output_type": "stream",
     "text": [
      "1.0 0.0\n",
      "[0.45181142 0.23546556 0.86435979 0.57367932 0.79371505 0.35618165\n",
      " 0.79688848 0.15552534 0.25846352 0.07740017 0.73468064 0.61817352\n",
      " 0.82300351 0.49541248 0.97886471 0.52426961 0.55714227 0.95993174\n",
      " 0.32117139 0.03090834 0.05845786 0.21479547 0.25636952 0.36743241\n",
      " 0.08694018 0.13483074 0.40265164 0.27129966 0.38324715 0.43013613\n",
      " 0.94948145 0.53149964 0.92033746 0.37172663 0.80773499 0.87696339\n",
      " 0.26200423 0.96420386 0.75253247 0.58135379 0.34933238 0.41118618\n",
      " 0.0552653  0.71287665 0.83209555 0.80577543 0.93703218 0.76295632\n",
      " 0.44318478 0.52085423 0.28619512 0.72386613 0.02689534 0.89026087\n",
      " 0.48087197 0.75384572 0.24970184 0.53211267 0.04070881 0.26863333\n",
      " 0.61772796 0.31199687 0.64297392 0.66742806 0.84384196 0.81039076\n",
      " 0.61926948 0.0583539  0.89703805 0.93716029 0.82439274 0.88740846\n",
      " 0.16446472 0.8459752  0.44329873 0.47471099 0.         0.18828261\n",
      " 0.32240964 0.84562897 0.59889188 0.65287405 0.37602758 0.47315595\n",
      " 0.22257194 0.18868341 1.         0.09531881 0.61150129 0.59704244\n",
      " 0.66118741 0.71009898 0.38324751 0.54898961 0.35317814 0.67278513\n",
      " 0.52053486 0.22501466 0.26852419 0.35900983]\n"
     ]
    }
   ],
   "execution_count": 196
  },
  {
   "cell_type": "markdown",
   "metadata": {},
   "source": [
    "Создайте array размером $5 \\times 6$ с целыми числами в интервале [0,50]. Напечатайте колонку, которая содержит максимальный элемент полученной матрицы "
   ]
  },
  {
   "cell_type": "code",
   "metadata": {
    "ExecuteTime": {
     "end_time": "2024-09-30T00:20:08.990800Z",
     "start_time": "2024-09-30T00:20:08.987497Z"
    }
   },
   "source": [
    "my_array = np.random.randint(0, 51, size=(6, 6))  ## Your code here\n",
    "selected_column = np.where(my_array == my_array.max())[1] ## Your code here\n",
    "print('Shape: ', my_array.shape)\n",
    "print('Array')\n",
    "print(my_array)\n",
    "print(selected_column)\n",
    "print(\"Max value: \", my_array.max())\n"
   ],
   "outputs": [
    {
     "name": "stdout",
     "output_type": "stream",
     "text": [
      "Shape:  (6, 6)\n",
      "Array\n",
      "[[ 8 22 31 20 23 15]\n",
      " [29 19  0 20 12 18]\n",
      " [20  1 36 20 11  5]\n",
      " [30 49 10  0 29 19]\n",
      " [44  4  1  4  8 24]\n",
      " [36 45  2  9 42 50]]\n",
      "[5]\n",
      "Max value:  50\n"
     ]
    }
   ],
   "execution_count": 202
  },
  {
   "cell_type": "markdown",
   "metadata": {},
   "source": [
    "Напишите функцию, которая принимает на вохд матрицу (array) X и возвращает все её уникальные строки в виде новой матрицы."
   ]
  },
  {
   "cell_type": "code",
   "metadata": {
    "ExecuteTime": {
     "end_time": "2024-09-30T00:52:22.195102Z",
     "start_time": "2024-09-30T00:52:22.192271Z"
    }
   },
   "source": [
    "def get_unique_rows(X):\n",
    "    # Your code here\n",
    "    unique_rows = np.unique(X, axis=0)\n",
    "    return unique_rows"
   ],
   "outputs": [],
   "execution_count": 261
  },
  {
   "cell_type": "code",
   "metadata": {
    "ExecuteTime": {
     "end_time": "2024-09-30T00:28:48.163182Z",
     "start_time": "2024-09-30T00:28:48.160075Z"
    }
   },
   "source": [
    "X = np.random.randint(4, 6, size=(10, 3))\n",
    "print(X)"
   ],
   "outputs": [
    {
     "name": "stdout",
     "output_type": "stream",
     "text": [
      "[[4 4 5]\n",
      " [5 4 4]\n",
      " [5 4 5]\n",
      " [4 5 5]\n",
      " [4 5 4]\n",
      " [5 4 4]\n",
      " [5 5 5]\n",
      " [5 5 5]\n",
      " [4 5 5]\n",
      " [4 5 4]]\n"
     ]
    }
   ],
   "execution_count": 213
  },
  {
   "cell_type": "code",
   "metadata": {
    "ExecuteTime": {
     "end_time": "2024-09-30T00:52:49.307456Z",
     "start_time": "2024-09-30T00:52:49.304102Z"
    }
   },
   "source": [
    "get_unique_rows(X)\n",
    "#print(get_unique_rows(X))"
   ],
   "outputs": [
    {
     "data": {
      "text/plain": [
       "array([[4, 4, 5],\n",
       "       [4, 5, 4],\n",
       "       [4, 5, 5],\n",
       "       [5, 4, 4],\n",
       "       [5, 4, 5],\n",
       "       [5, 5, 5]], dtype=int32)"
      ]
     },
     "execution_count": 264,
     "metadata": {},
     "output_type": "execute_result"
    }
   ],
   "execution_count": 264
  }
 ],
 "metadata": {
  "kernelspec": {
   "display_name": "Python 3",
   "language": "python",
   "name": "python3"
  },
  "language_info": {
   "codemirror_mode": {
    "name": "ipython",
    "version": 3
   },
   "file_extension": ".py",
   "mimetype": "text/x-python",
   "name": "python",
   "nbconvert_exporter": "python",
   "pygments_lexer": "ipython3",
   "version": "3.7.6"
  },
  "varInspector": {
   "cols": {
    "lenName": 16,
    "lenType": 16,
    "lenVar": 40
   },
   "kernels_config": {
    "python": {
     "delete_cmd_postfix": "",
     "delete_cmd_prefix": "del ",
     "library": "var_list.py",
     "varRefreshCmd": "print(var_dic_list())"
    },
    "r": {
     "delete_cmd_postfix": ") ",
     "delete_cmd_prefix": "rm(",
     "library": "var_list.r",
     "varRefreshCmd": "cat(var_dic_list()) "
    }
   },
   "types_to_exclude": [
    "module",
    "function",
    "builtin_function_or_method",
    "instance",
    "_Feature"
   ],
   "window_display": false
  }
 },
 "nbformat": 4,
 "nbformat_minor": 2
}
